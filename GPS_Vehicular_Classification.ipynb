{
  "nbformat": 4,
  "nbformat_minor": 0,
  "metadata": {
    "kernelspec": {
      "name": "python3",
      "display_name": "Python 3"
    },
    "language_info": {
      "codemirror_mode": {
        "name": "ipython",
        "version": 3
      },
      "file_extension": ".py",
      "mimetype": "text/x-python",
      "name": "python",
      "nbconvert_exporter": "python",
      "pygments_lexer": "ipython3",
      "version": "3.7.4"
    },
    "colab": {
      "name": "GPS_Vehicular_Classification.ipynb",
      "provenance": [],
      "collapsed_sections": [
        "TfTPZLnscPPe",
        "V9hYj1p4eV8q",
        "ivITp2u1euRu",
        "zpUzQ3a_xz-C",
        "o2J5NP4L3FfF"
      ]
    },
    "accelerator": "GPU"
  },
  "cells": [
    {
      "cell_type": "markdown",
      "metadata": {
        "id": "TfTPZLnscPPe",
        "colab_type": "text"
      },
      "source": [
        "#Mount GDrive"
      ]
    },
    {
      "cell_type": "code",
      "metadata": {
        "id": "4-U_HRh7At5q",
        "colab_type": "code",
        "colab": {
          "base_uri": "https://localhost:8080/",
          "height": 122
        },
        "outputId": "dee0e576-b11f-4625-dcce-98ed583bf7d4"
      },
      "source": [
        "from google.colab import drive\n",
        "drive.mount('/content/drive')"
      ],
      "execution_count": null,
      "outputs": [
        {
          "output_type": "stream",
          "text": [
            "Go to this URL in a browser: https://accounts.google.com/o/oauth2/auth?client_id=947318989803-6bn6qk8qdgf4n4g3pfee6491hc0brc4i.apps.googleusercontent.com&redirect_uri=urn%3aietf%3awg%3aoauth%3a2.0%3aoob&response_type=code&scope=email%20https%3a%2f%2fwww.googleapis.com%2fauth%2fdocs.test%20https%3a%2f%2fwww.googleapis.com%2fauth%2fdrive%20https%3a%2f%2fwww.googleapis.com%2fauth%2fdrive.photos.readonly%20https%3a%2f%2fwww.googleapis.com%2fauth%2fpeopleapi.readonly\n",
            "\n",
            "Enter your authorization code:\n",
            "··········\n",
            "Mounted at /content/drive\n"
          ],
          "name": "stdout"
        }
      ]
    },
    {
      "cell_type": "code",
      "metadata": {
        "id": "JN52iZ9NBU7R",
        "colab_type": "code",
        "colab": {
          "base_uri": "https://localhost:8080/",
          "height": 34
        },
        "outputId": "f5f814e6-f27b-471b-e71d-5e4cc0d16d2e"
      },
      "source": [
        "%cd /content/drive/'My Drive'/'Colab Notebooks'/\n",
        "# cd /content/drive/My Drive/Sop_GPS_Classification/PreProcessedData_Final/\n",
        "# %cd /content/drive/'My Drive'/'PreProcessedData_Final'"
      ],
      "execution_count": null,
      "outputs": [
        {
          "output_type": "stream",
          "text": [
            "/content/drive/My Drive/Colab Notebooks\n"
          ],
          "name": "stdout"
        }
      ]
    },
    {
      "cell_type": "code",
      "metadata": {
        "id": "tLrnqC-ZZImr",
        "colab_type": "code",
        "colab": {
          "base_uri": "https://localhost:8080/",
          "height": 34
        },
        "outputId": "2993b814-1af2-43a7-823e-50f2b55fb96d"
      },
      "source": [
        "cd 'PreProcessedData_Final/'"
      ],
      "execution_count": null,
      "outputs": [
        {
          "output_type": "stream",
          "text": [
            "/content/drive/My Drive/Colab Notebooks/PreProcessedData_Final\n"
          ],
          "name": "stdout"
        }
      ]
    },
    {
      "cell_type": "markdown",
      "metadata": {
        "id": "V9hYj1p4eV8q",
        "colab_type": "text"
      },
      "source": [
        "#Import the required libraries"
      ]
    },
    {
      "cell_type": "code",
      "metadata": {
        "id": "vdGp5BwtCMhC",
        "colab_type": "code",
        "colab": {
          "base_uri": "https://localhost:8080/",
          "height": 122
        },
        "outputId": "c659fbb6-7654-4f1d-cc99-ea8e130670cb"
      },
      "source": [
        "!pip install pyproj"
      ],
      "execution_count": null,
      "outputs": [
        {
          "output_type": "stream",
          "text": [
            "Collecting pyproj\n",
            "\u001b[?25l  Downloading https://files.pythonhosted.org/packages/d6/70/eedc98cd52b86de24a1589c762612a98bea26cde649ffdd60c1db396cce8/pyproj-2.4.2.post1-cp36-cp36m-manylinux2010_x86_64.whl (10.1MB)\n",
            "\u001b[K     |████████████████████████████████| 10.1MB 24kB/s \n",
            "\u001b[?25hInstalling collected packages: pyproj\n",
            "Successfully installed pyproj-2.4.2.post1\n"
          ],
          "name": "stdout"
        }
      ]
    },
    {
      "cell_type": "code",
      "metadata": {
        "id": "sWZgFRS76GCe",
        "colab_type": "code",
        "colab": {}
      },
      "source": [
        "import numpy as np\n",
        "import pandas as pd\n",
        "# import sklearn as sk\n",
        "# from sklearn.decomposition import PCA\n",
        "# from geopy.distance import geodesic\n",
        "# import mpu\n",
        "import pyproj\n",
        "# import warnings\n",
        "# warnings.filterwarnings('ignore')\n",
        "# except:\n",
        "#     pass\n",
        "# import keras\n",
        "# # from keras.activation import adam\n",
        "# from keras.models import Sequential\n",
        "# from keras.layers import Dense, LSTM, Input\n",
        "# from keras.utils import to_categorical\n",
        "import glob\n",
        "\n",
        "from datetime import datetime\n",
        "from datetime import timedelta\n",
        "from IPython.display import clear_output\n"
      ],
      "execution_count": null,
      "outputs": []
    },
    {
      "cell_type": "markdown",
      "metadata": {
        "id": "ivITp2u1euRu",
        "colab_type": "text"
      },
      "source": [
        "#Preprocessing"
      ]
    },
    {
      "cell_type": "markdown",
      "metadata": {
        "id": "rXhU4BtehY3n",
        "colab_type": "text"
      },
      "source": [
        "Extracting all the required file names."
      ]
    },
    {
      "cell_type": "code",
      "metadata": {
        "id": "CibVGHqBB0tW",
        "colab_type": "code",
        "colab": {}
      },
      "source": [
        "path = '20190818'\n",
        "all_files = glob.glob(path+ \"/*.csv\")\n",
        "print(all_files)\n",
        "clear_output()"
      ],
      "execution_count": null,
      "outputs": []
    },
    {
      "cell_type": "markdown",
      "metadata": {
        "id": "8hsX2abHhhuC",
        "colab_type": "text"
      },
      "source": [
        "Reading all the files as dataframes and appending them to a list."
      ]
    },
    {
      "cell_type": "code",
      "metadata": {
        "id": "coZQr-vDDS-7",
        "colab_type": "code",
        "colab": {}
      },
      "source": [
        "li=[]\n",
        "i=0\n",
        "for filename in all_files :\n",
        "    df = pd.read_csv(filename, index_col=None, header= None, sep=';')\n",
        "    if (i%1000 == 0):\n",
        "      print(i)\n",
        "    i = i + 1\n",
        "    li.append(df)\n",
        "clear_output()"
      ],
      "execution_count": null,
      "outputs": []
    },
    {
      "cell_type": "markdown",
      "metadata": {
        "id": "a_aB6Cpahy2n",
        "colab_type": "text"
      },
      "source": [
        "Removing redundant columns."
      ]
    },
    {
      "cell_type": "code",
      "metadata": {
        "id": "84klA4hn6GCi",
        "colab_type": "code",
        "colab": {}
      },
      "source": [
        "for i in range(len(li)):\n",
        "    if(i!=0):\n",
        "      df=li[i]\n",
        "      df.drop(['d1', 'd2', 'd3'], axis=1, inplace=True)\n",
        "      # df.rename(columns={4:'d1', 6:'d1', 7:'d2', 8:'d3'}, inplace=True)\n",
        "      if i%1000 == 0:\n",
        "        print(i)\n",
        "      i=i+1\n",
        "clear_output()"
      ],
      "execution_count": null,
      "outputs": []
    },
    {
      "cell_type": "markdown",
      "metadata": {
        "id": "BNi8OJ1qij3n",
        "colab_type": "text"
      },
      "source": [
        "Creating a dictionary for storing all the information of one vehicle in one dataframe."
      ]
    },
    {
      "cell_type": "code",
      "metadata": {
        "id": "O5RrD6m7LSCX",
        "colab_type": "code",
        "colab": {}
      },
      "source": [
        "uniqueID=dict()\n",
        "for i in range(len(li)):\n",
        "  for j in range(li[i].shape[0]):\n",
        "    if(uniqueID.get(li[i].at[j,'id']) == None):\n",
        "      uniqueID[li[i].at[j,'id']] = 1\n",
        "    else:\n",
        "      uniqueID[li[i].at[j,'id']] += 1\n",
        "  if i%1000 == 0:\n",
        "    print(i)\n",
        "\n",
        "clear_output()"
      ],
      "execution_count": null,
      "outputs": []
    },
    {
      "cell_type": "markdown",
      "metadata": {
        "id": "ozAiC3m3iYGA",
        "colab_type": "text"
      },
      "source": [
        "Creating the necessary columns."
      ]
    },
    {
      "cell_type": "code",
      "metadata": {
        "id": "Ir-PcqekKrWE",
        "colab_type": "code",
        "colab": {}
      },
      "source": [
        "dictOfList={}\n",
        "for ID in uniqueID:\n",
        "    dictOfList[ID] = [] #create a dictionary of lists\n",
        "for j in range(len(li)):\n",
        "  for k in range(li[j].shape[0]):\n",
        "    tmpDict = {}\n",
        "    tmpDict.update({'id':li[j].at[k,'id']})\n",
        "    tmpDict.update({'time':li[j].at[k,'time']})\n",
        "    tmpDict.update({'lat':li[j].at[k,'lat']})\n",
        "    tmpDict.update({'long':li[j].at[k,'long']})\n",
        "    tmpDict.update({'speed':li[j].at[k,'speed']})\n",
        "    # tmpDict.update({'class':li[j].at[k,'class']})\n",
        "    dictOfList[li[j].at[k,'id']].append(tmpDict)   \n",
        "  if(j%1000 == 0):\n",
        "    print(j)  \n",
        "clear_output() "
      ],
      "execution_count": null,
      "outputs": []
    },
    {
      "cell_type": "markdown",
      "metadata": {
        "id": "_eXJ40hEio36",
        "colab_type": "text"
      },
      "source": [
        "Storing all the information about a vehicle in one single dataframe in the dictionary of dataframes."
      ]
    },
    {
      "cell_type": "code",
      "metadata": {
        "id": "79ug2rutXxmR",
        "colab_type": "code",
        "colab": {}
      },
      "source": [
        "preData=[]\n",
        "for key in dictOfList:\n",
        "  frame=pd.DataFrame(dictOfList[key])\n",
        "  preData.append(frame)"
      ],
      "execution_count": null,
      "outputs": []
    },
    {
      "cell_type": "markdown",
      "metadata": {
        "id": "at1KatxuioHO",
        "colab_type": "text"
      },
      "source": [
        "Saving this  processed data in csv format on disk."
      ]
    },
    {
      "cell_type": "code",
      "metadata": {
        "id": "EEg6DRanY7zL",
        "colab_type": "code",
        "colab": {}
      },
      "source": [
        "for i in range(len(preData)):\n",
        "  name = './TestPreProcessedData_1/DataFile_'+str(i+1)+'.csv'\n",
        "  preData[i].to_csv(name)"
      ],
      "execution_count": null,
      "outputs": []
    },
    {
      "cell_type": "markdown",
      "metadata": {
        "id": "Mp8vY2Nai_wt",
        "colab_type": "text"
      },
      "source": [
        "Reading the vehicle-wise data from disk."
      ]
    },
    {
      "cell_type": "code",
      "metadata": {
        "id": "k2krqcBB_Q9C",
        "colab_type": "code",
        "colab": {}
      },
      "source": [
        "path = 'TestPreProcessedData_1'\n",
        "all_files = glob.glob(path+ \"/*.csv\")\n",
        "vehicles=[]\n",
        "i = 0\n",
        "for fileName in all_files:\n",
        "  frame = pd.read_csv(fileName, sep = ',')\n",
        "  vehicles.append(frame)\n",
        "  if i%1000 == 0:\n",
        "    print(i)\n",
        "  i += 1\n",
        "\n",
        "clear_output()"
      ],
      "execution_count": null,
      "outputs": []
    },
    {
      "cell_type": "markdown",
      "metadata": {
        "id": "8gcZrrqwjD0W",
        "colab_type": "text"
      },
      "source": [
        "Adding the necessary columns for learning the model."
      ]
    },
    {
      "cell_type": "code",
      "metadata": {
        "id": "l6_FwVwf6GCq",
        "colab_type": "code",
        "colab": {}
      },
      "source": [
        "# Adding new columns for speed,datetime,etc\n",
        "for i in range(len(vehicles)):\n",
        "    vehicles[i].insert(loc=6, column='dist', value=1.0)\n",
        "    vehicles[i].insert(loc=7, column='LatLongSpeed', value=1.0)\n",
        "    vehicles[i].insert(loc=8, column='acc', value=1.0)\n",
        "    vehicles[i].insert(loc=9, column='datetime',value=datetime.strptime('1857/08/15 00:00:00', '%Y/%m/%d %H:%M:%S'))\n",
        "    if(i%1000==0):\n",
        "      print(i)\n",
        "clear_output()"
      ],
      "execution_count": null,
      "outputs": []
    },
    {
      "cell_type": "markdown",
      "metadata": {
        "id": "Pf3GqhBVjSNa",
        "colab_type": "text"
      },
      "source": [
        "Parsing the timestamps into the datetime format."
      ]
    },
    {
      "cell_type": "code",
      "metadata": {
        "id": "ysgVEL6n6GCv",
        "colab_type": "code",
        "colab": {}
      },
      "source": [
        "#populating datetime and sorting according to time\n",
        "for j in range(len(vehicles)):\n",
        "    for k in range(0, vehicles[j].shape[0]):\n",
        "        vehicles[j].at[k,'datetime'] = datetime.strptime(vehicles[j].at[k,'time'], '%Y/%m/%d %H:%M:%S')\n",
        "    vehicles[j].sort_values(by='datetime',inplace=True,na_position='first')\n",
        "    if(j%1000 == 0):\n",
        "      print(j)\n",
        "clear_output()"
      ],
      "execution_count": null,
      "outputs": []
    },
    {
      "cell_type": "markdown",
      "metadata": {
        "id": "ADXxo8cHjaGr",
        "colab_type": "text"
      },
      "source": [
        "Dropping rows with duplicate values of timestamps."
      ]
    },
    {
      "cell_type": "code",
      "metadata": {
        "id": "vyht8eW0O1IE",
        "colab_type": "code",
        "colab": {}
      },
      "source": [
        "for i in range(len(vehicles)):\n",
        "  vehicles[i].drop_duplicates(subset=['datetime'], keep='first', inplace=True)"
      ],
      "execution_count": null,
      "outputs": []
    },
    {
      "cell_type": "code",
      "metadata": {
        "id": "HHlLo3gT6GCx",
        "colab_type": "code",
        "colab": {}
      },
      "source": [
        "#Just to check whether duplicates remain or not\n",
        "for i in range(len(vehicles)):\n",
        "  if(any(vehicles[i]['datetime'].duplicated()) == True):\n",
        "    print(\"Duplicate Exists in \"+str(i))"
      ],
      "execution_count": null,
      "outputs": []
    },
    {
      "cell_type": "markdown",
      "metadata": {
        "id": "B6QVw_a-jgpS",
        "colab_type": "text"
      },
      "source": [
        "Creating a new list of dataframes (one for each vehicle) for further preprocessing."
      ]
    },
    {
      "cell_type": "code",
      "metadata": {
        "id": "kEfMEdF_6GC7",
        "colab_type": "code",
        "colab": {}
      },
      "source": [
        "vehicles_new=[]\n",
        "for i in range(len(vehicles)):\n",
        "    reset_index_df = vehicles[i].reset_index(drop=True)\n",
        "    vehicles_new.append(reset_index_df[['id', 'datetime','lat','long','dist','speed','LatLongSpeed','acc']].copy())s"
      ],
      "execution_count": null,
      "outputs": []
    },
    {
      "cell_type": "markdown",
      "metadata": {
        "id": "C6lWCLb-kVkC",
        "colab_type": "text"
      },
      "source": [
        "Checking for duplicate timestamps and empty vehicle data."
      ]
    },
    {
      "cell_type": "code",
      "metadata": {
        "id": "FXpvO8b0TIyt",
        "colab_type": "code",
        "colab": {}
      },
      "source": [
        "#In case, if duplicates remain, delete them forcefully\n",
        "for i in range(len(vehicles_new)):\n",
        "    duplicateRowsDF = vehicles_new[i][vehicles_new[i].duplicated(subset = ['datetime'],keep = 'first')]\n",
        "    print(\"Duplicate Rows of :\"+ str(i))\n",
        "    index_duplicates=list(duplicateRowsDF.index.values)\n",
        "    vehicles_new[i].drop(vehicles_new[i].index[index_duplicates],inplace = True)\n",
        "clear_output()"
      ],
      "execution_count": null,
      "outputs": []
    },
    {
      "cell_type": "code",
      "metadata": {
        "id": "guN43grj6GC_",
        "colab_type": "code",
        "colab": {}
      },
      "source": [
        "#Check if some dataframe is empty or not\n",
        "for i in range(len(vehicles_new)):\n",
        "  if(vehicles_new[i].empty):\n",
        "    print(\"I am Empty\")\n",
        "clear_output()"
      ],
      "execution_count": null,
      "outputs": []
    },
    {
      "cell_type": "markdown",
      "metadata": {
        "id": "i29RUGowkiqO",
        "colab_type": "text"
      },
      "source": [
        "Saving this data back to disk for security."
      ]
    },
    {
      "cell_type": "code",
      "metadata": {
        "id": "_0jmqvFUOkGH",
        "colab_type": "code",
        "colab": {}
      },
      "source": [
        "for i in range(len(vehicles_new)):\n",
        "  name = './TestPreProcessedData_2/DataFile_'+str(i+1)+'.csv'\n",
        "  vehicles_new[i].to_csv(name)"
      ],
      "execution_count": null,
      "outputs": []
    },
    {
      "cell_type": "markdown",
      "metadata": {
        "id": "0TnxXAz_knpo",
        "colab_type": "text"
      },
      "source": [
        "Reading back the vehicular data."
      ]
    },
    {
      "cell_type": "code",
      "metadata": {
        "colab_type": "code",
        "id": "LgIb0GvaFm5c",
        "colab": {}
      },
      "source": [
        "vehicles_new=[]\n",
        "path = 'TestPreProcessedData_2'\n",
        "all_files = glob.glob(path+ \"/*.csv\")\n",
        "i = 0\n",
        "for fileName in all_files:\n",
        "  frame = pd.read_csv(fileName, sep = ',')\n",
        "  vehicles_new.append(frame)\n",
        "  for k in range(len(frame)):\n",
        "    vehicles_new[i].at[k,'datetime'] = datetime.strptime(vehicles_new[i].at[k,'datetime'], '%Y-%m-%d %H:%M:%S')\n",
        "  if i%1000 == 0:\n",
        "    print(i)\n",
        "  i += 1\n",
        "\n",
        "clear_output()"
      ],
      "execution_count": null,
      "outputs": []
    },
    {
      "cell_type": "markdown",
      "metadata": {
        "id": "CBxM9qLdksBG",
        "colab_type": "text"
      },
      "source": [
        "Extracting speed and acceleration at verious timestamps using GPS coordinates."
      ]
    },
    {
      "cell_type": "code",
      "metadata": {
        "id": "0R1FhIw06GDD",
        "colab_type": "code",
        "colab": {}
      },
      "source": [
        "for j in range(len(vehicles_new)):\n",
        "    # if(not vehicles_new[j].empty):\n",
        "    vehicles_new[j].at[0,'dist']=0\n",
        "    vehicles_new[j].at[0,'LatLongSpeed']=0\n",
        "    vehicles_new[j].at[0,'acc']=0\n",
        "    for k in range(1, vehicles_new[j].shape[0]):\n",
        "        geod = pyproj.Geod(ellps='WGS84')\n",
        "        lat0=vehicles_new[j].at[k-1,'lat']\n",
        "        lon0=vehicles_new[j].at[k-1,'long']\n",
        "        lat1=vehicles_new[j].at[k,'lat']\n",
        "        lon1=vehicles_new[j].at[k,'long']\n",
        "\n",
        "        a1, a2, dist = geod.inv(lon0, lat0, lon1, lat1)\n",
        "        vehicles_new[j].at[k,'dist']=dist\n",
        "        \n",
        "        timediff = (vehicles_new[j].at[k,'datetime'] - vehicles_new[j].at[k-1,'datetime']).total_seconds()/3600\n",
        "        \n",
        "        \n",
        "        vehicles_new[j].at[k,'LatLongSpeed']=(vehicles_new[j].at[k,'dist']-vehicles_new[j].at[k-1,'dist'])/timediff\n",
        "        \n",
        "        vehicles_new[j].at[k,'acc']=(vehicles_new[j].at[k,'speed']-vehicles_new[j].at[k-1,'speed'])/timediff\n",
        "    \n",
        "    if(j%1000 == 0):\n",
        "      print(j)\n",
        "clear_output()"
      ],
      "execution_count": null,
      "outputs": []
    },
    {
      "cell_type": "markdown",
      "metadata": {
        "id": "wSzM6sNjk3QG",
        "colab_type": "text"
      },
      "source": [
        "Checking for rows with data that cannot be processed further."
      ]
    },
    {
      "cell_type": "code",
      "metadata": {
        "id": "lcnXv7AO6GDH",
        "colab_type": "code",
        "colab": {}
      },
      "source": [
        "# To check if nan, inf or -inf exist in some entry of some row of some dataframe\n",
        "for i in range(len(vehicles_new)):\n",
        "    if(vehicles_new[i].isin([np.nan, np.inf, -np.inf]).any(1).values.any()):\n",
        "        print(str(i)+\" Exist\")\n",
        "    else:\n",
        "        print(str(i)+\" Not Exist\")\n",
        "clear_output()"
      ],
      "execution_count": null,
      "outputs": []
    },
    {
      "cell_type": "markdown",
      "metadata": {
        "id": "IGkFHChak-wr",
        "colab_type": "text"
      },
      "source": [
        "For each vehicle, calculating aggregated parameters of speed and acceleration."
      ]
    },
    {
      "cell_type": "code",
      "metadata": {
        "id": "0gmM0FKZ6GDO",
        "colab_type": "code",
        "colab": {}
      },
      "source": [
        "df2=pd.DataFrame(columns=['id','speed1_avg','speed2_avg','speed1_var','speed2_var','acc_avg','acc_var'])\n",
        "for i in range(len(vehicles_new)):\n",
        "    if(not vehicles_new[j].empty):\n",
        "        df2.at[i,'speed1_avg'] = vehicles_new[i]['speed'].mean()\n",
        "        df2.at[i,'speed2_avg'] = vehicles_new[i]['LatLongSpeed'].mean()\n",
        "        df2.at[i,'speed1_var'] = vehicles_new[i]['speed'].var()\n",
        "        df2.at[i,'speed2_var'] = vehicles_new[i]['LatLongSpeed'].var()\n",
        "        df2.at[i,'acc_avg'] = vehicles_new[i]['acc'].mean()\n",
        "        df2.at[i,'acc_var'] = vehicles_new[i]['acc'].var()\n",
        "        df2.at[i,'id']= vehicles_new[i].at[0,'id']\n",
        "        # df2.at[i,'class']= vehicles_new[i]['class'][0]\n",
        "    if(i%1000 == 0):\n",
        "      print(i)\n",
        "clear_output()"
      ],
      "execution_count": null,
      "outputs": []
    },
    {
      "cell_type": "markdown",
      "metadata": {
        "id": "oUbKKjE0lHZ2",
        "colab_type": "text"
      },
      "source": [
        "Finally, saving the preprocessed data."
      ]
    },
    {
      "cell_type": "code",
      "metadata": {
        "id": "7DNvi6YX6GDZ",
        "colab_type": "code",
        "colab": {}
      },
      "source": [
        "df2.to_csv('./TestPreProcessedData_Final/FinalData.csv')"
      ],
      "execution_count": null,
      "outputs": []
    },
    {
      "cell_type": "markdown",
      "metadata": {
        "id": "eCnrl5EGcCsR",
        "colab_type": "text"
      },
      "source": [
        "#Analysis and Training\n"
      ]
    },
    {
      "cell_type": "markdown",
      "metadata": {
        "id": "54Xrg9EOlQu3",
        "colab_type": "text"
      },
      "source": [
        ""
      ]
    },
    {
      "cell_type": "code",
      "metadata": {
        "id": "4zsuglVdGeO0",
        "colab_type": "code",
        "colab": {
          "base_uri": "https://localhost:8080/",
          "height": 68
        },
        "outputId": "34dd6436-7608-4505-937d-312490638a68"
      },
      "source": [
        "!ls\n",
        "%cd drive/"
      ],
      "execution_count": null,
      "outputs": [
        {
          "output_type": "stream",
          "text": [
            "FinalData.csv  FinalData.gsheet\n",
            "[Errno 2] No such file or directory: 'drive/'\n",
            "/content/drive/My Drive/Colab Notebooks/PreProcessedData_Final\n"
          ],
          "name": "stdout"
        }
      ]
    },
    {
      "cell_type": "markdown",
      "metadata": {
        "id": "8EdSVWE0m9eL",
        "colab_type": "text"
      },
      "source": [
        "Reading the vehicular data from disk."
      ]
    },
    {
      "cell_type": "code",
      "metadata": {
        "id": "ZdvGWlg8mpA0",
        "colab_type": "code",
        "colab": {
          "base_uri": "https://localhost:8080/",
          "height": 51
        },
        "outputId": "8486c388-b731-4098-89e9-ed5e28a2af69"
      },
      "source": [
        "df2 = pd.read_csv('FinalData.csv')\n",
        "df2['class'].unique()\n",
        "# df2['class'].nunique()"
      ],
      "execution_count": null,
      "outputs": [
        {
          "output_type": "execute_result",
          "data": {
            "text/plain": [
              "array(['Car', 'Not available', 'Ambulance', 'Motor Cycle', 'Bus', 'Cab',\n",
              "       'JCB', 'Truck', 'Tractor', 'Mini_Bus', 'School_Bus'], dtype=object)"
            ]
          },
          "metadata": {
            "tags": []
          },
          "execution_count": 10
        }
      ]
    },
    {
      "cell_type": "markdown",
      "metadata": {
        "id": "HOxppvlWnBOV",
        "colab_type": "text"
      },
      "source": [
        "Importing the required libraries."
      ]
    },
    {
      "cell_type": "code",
      "metadata": {
        "id": "wzQtZipzo_uG",
        "colab_type": "code",
        "colab": {}
      },
      "source": [
        "from sklearn.decomposition import PCA\n",
        "from sklearn.neighbors import KNeighborsClassifier\n",
        "from sklearn.model_selection import train_test_split\n",
        "from sklearn import metrics\n",
        "from sklearn.naive_bayes import BernoulliNB\n",
        "from sklearn.svm import SVC\n",
        "from sklearn.ensemble import RandomForestClassifier\n",
        "from sklearn.metrics import classification_report\n",
        "from sklearn.metrics import confusion_matrix\n",
        "from sklearn.tree import DecisionTreeClassifier\n",
        "from sklearn.ensemble import AdaBoostClassifier\n",
        "from sklearn.ensemble import GradientBoostingClassifier\n",
        "from sklearn.linear_model import SGDClassifier\n",
        "from sklearn.ensemble import BaggingClassifier\n",
        "from xgboost import XGBClassifier\n",
        "from xgboost import XGBRegressor\n",
        "from sklearn import preprocessing\n",
        "from sklearn.model_selection import GridSearchCV\n",
        "from sklearn.preprocessing import StandardScaler\n",
        "import sys\n",
        "import pandas as pd\n",
        "import matplotlib.pyplot as plt\n",
        "from mpl_toolkits.mplot3d import Axes3D\n",
        "import matplotlib as mpl\n",
        "import numpy as np\n",
        "import seaborn as sns\n",
        "import xgboost as xgb\n",
        "from sklearn.model_selection import KFold"
      ],
      "execution_count": null,
      "outputs": []
    },
    {
      "cell_type": "markdown",
      "metadata": {
        "id": "nPCOa-GYnEXR",
        "colab_type": "text"
      },
      "source": [
        "Dropping the columns which are useless, and replacing NA values with mean."
      ]
    },
    {
      "cell_type": "code",
      "metadata": {
        "id": "uka4FVMdvdSa",
        "colab_type": "code",
        "colab": {
          "base_uri": "https://localhost:8080/",
          "height": 34
        },
        "outputId": "52adac1d-45cf-4b69-a56b-791ae06ecf29"
      },
      "source": [
        "df4 = df2\n",
        "df4 = df4[df4['class'] != 'Not available']\n",
        "y = df4['class']\n",
        "df4=df4.drop(columns = ['id','class'])\n",
        "df4.drop(df4.columns[df4.columns.str.contains('unnamed',case = False)],axis = 1, inplace = True)\n",
        "# 'speed1_avg','speed2_avg','speed1_var','speed2_var','acc_avg','acc_var'\n",
        "df4 = df4.fillna(df4.mean())\n",
        "\n",
        "print(df4.shape)"
      ],
      "execution_count": null,
      "outputs": [
        {
          "output_type": "stream",
          "text": [
            "(3252, 6)\n"
          ],
          "name": "stdout"
        }
      ]
    },
    {
      "cell_type": "markdown",
      "metadata": {
        "id": "pe-fhq9-nguG",
        "colab_type": "text"
      },
      "source": [
        "Scaling the data."
      ]
    },
    {
      "cell_type": "code",
      "metadata": {
        "id": "cxQv0nsVkkZK",
        "colab_type": "code",
        "colab": {}
      },
      "source": [
        "names = df4.columns\n",
        "scaler = preprocessing.StandardScaler()\n",
        "scaled_df = scaler.fit_transform(df4)\n",
        "scaled_df = pd.DataFrame(scaled_df, columns=names)\n",
        "df4=scaled_df"
      ],
      "execution_count": null,
      "outputs": []
    },
    {
      "cell_type": "markdown",
      "metadata": {
        "id": "MQAb3NdAnig5",
        "colab_type": "text"
      },
      "source": [
        "Plotting the data for analysis."
      ]
    },
    {
      "cell_type": "code",
      "metadata": {
        "id": "4atS-ek-CLMO",
        "colab_type": "code",
        "colab": {
          "base_uri": "https://localhost:8080/",
          "height": 355
        },
        "outputId": "52391c09-fe65-4571-93c2-a184c4ba50ef"
      },
      "source": [
        "df4.hist(bins=15, color='steelblue', edgecolor='black', linewidth=1.0,\n",
        "           xlabelsize=8, ylabelsize=8, grid=False)    \n",
        "plt.tight_layout(rect=(0, 0, 1.2, 1.2))   "
      ],
      "execution_count": null,
      "outputs": [
        {
          "output_type": "display_data",
          "data": {
            "image/png": "[encoded data removed]",
            "text/plain": [
              "<Figure size 432x288 with 6 Axes>"
            ]
          },
          "metadata": {
            "tags": []
          }
        }
      ]
    },
    {
      "cell_type": "code",
      "metadata": {
        "id": "n7Xg9WkNCoG5",
        "colab_type": "code",
        "colab": {}
      },
      "source": [
        "f, ax = plt.subplots(figsize=(10, 8))\n",
        "corr = df4.corr()\n",
        "hm = sns.heatmap(round(corr,2), annot=True, ax=ax, cmap=\"coolwarm\",fmt='.2f',\n",
        "                 linewidths=.05)\n",
        "f.subplots_adjust(top=0.9)\n",
        "t= f.suptitle('Vehicle Attributes Correlation Heatmap', fontsize=14)"
      ],
      "execution_count": null,
      "outputs": []
    },
    {
      "cell_type": "code",
      "metadata": {
        "id": "3kIGr6oz2E86",
        "colab_type": "code",
        "colab": {}
      },
      "source": [
        "fig = plt.figure(figsize=(8, 6))\n",
        "t = fig.suptitle('speed1_avg - speed2_avg - speed1_var - speed2_var - acc_avg - acc_var', fontsize=14)\n",
        "ax = fig.add_subplot(111, projection='3d')\n",
        "\n",
        "xs = list(df4['speed1_avg'])\n",
        "ys = list(df4['speed2_avg'])\n",
        "zs = list(df4['speed1_var'])\n",
        "data_points = [(x, y, z) for x, y, z in zip(xs, ys, zs)]\n",
        "\n",
        "# ss = list(df4['speed2_var'])\n",
        "colors = ['red' if wt <= 1000 else 'yellow' for wt in list(df4['acc_avg'])]\n",
        "# markers = [',' if q == 'high' else 'x' if q == 'medium' else 'o' for q in list(df4['acc_var'])]\n",
        "\n",
        "# ax.scatter(xs, ys, zs, s=50, alpha=0.6, edgecolors='w')\n",
        "for data, color in zip(data_points, colors):\n",
        "    x, y, z = data\n",
        "    ax.scatter(x, y, z, c=color, edgecolors='none')\n",
        "    # print(data)\n",
        "\n",
        "ax.set_xlabel('speed1_avg')\n",
        "ax.set_ylabel('speed2_avg')\n",
        "ax.set_zlabel('speed1_var')"
      ],
      "execution_count": null,
      "outputs": []
    },
    {
      "cell_type": "markdown",
      "metadata": {
        "id": "3UKS89sKnmsr",
        "colab_type": "text"
      },
      "source": [
        "Principal Component Analysis"
      ]
    },
    {
      "cell_type": "code",
      "metadata": {
        "id": "cfInNBUrmoCH",
        "colab_type": "code",
        "colab": {
          "base_uri": "https://localhost:8080/",
          "height": 119
        },
        "outputId": "d54d6313-3812-4614-c093-d0d04707ccd7"
      },
      "source": [
        "for i in range(1,7): \n",
        "  pca = PCA(n_components = i)\n",
        "  pca.fit(df4)\n",
        "  print(sum(pca.explained_variance_ratio_))"
      ],
      "execution_count": null,
      "outputs": [
        {
          "output_type": "stream",
          "text": [
            "0.6043523575769868\n",
            "0.9012425560007675\n",
            "0.9604297660893899\n",
            "0.9998299437603065\n",
            "0.9999997731475788\n",
            "1.0\n"
          ],
          "name": "stdout"
        }
      ]
    },
    {
      "cell_type": "markdown",
      "metadata": {
        "id": "ZecaJ9eOxrRF",
        "colab_type": "text"
      },
      "source": [
        "# Shallow Models"
      ]
    },
    {
      "cell_type": "markdown",
      "metadata": {
        "id": "fX3Kd47-ns3w",
        "colab_type": "text"
      },
      "source": [
        "K-Fold Cross-Validation with k=5."
      ]
    },
    {
      "cell_type": "code",
      "metadata": {
        "id": "LxBFegZYNQlF",
        "colab_type": "code",
        "colab": {
          "base_uri": "https://localhost:8080/",
          "height": 34
        },
        "outputId": "85c9644a-06dc-48cc-cf06-f43d3efedd67"
      },
      "source": [
        "cv = KFold(n_splits=5, random_state=2, shuffle=True)\n",
        "avg_accuracy=0.0\n",
        "string = \"\"\n",
        "for train_index, test_index in cv.split(df4):\n",
        "  X_tr, X_tst, y_tr, y_tst = df4.iloc[train_index], df4.iloc[test_index], y.iloc[train_index], y.iloc[test_index]\n",
        "  clf=XGBClassifier(booster='gbtree',objective='multi:softmax',num_class =10,eval_metric = 'merror', \n",
        "                     learning_rate=0.5,n_estimators=120,\n",
        "                      max_depth=5, min_child_weigth = 3,gamma=0,subsample=0.7, colsample_bytree = 0.9,scale_pos_weight = 1,seed = 27)\n",
        "  model = clf.fit(X_tr, y_tr)\n",
        "  predicted= model.predict(X_tst)\n",
        "  string = string + str(round((metrics.accuracy_score(y_tst, predicted)*100),2)) + ' & '\n",
        "  avg_accuracy = avg_accuracy + metrics.accuracy_score(y_tst, predicted)\n",
        "\n",
        "string = string + (str(round((avg_accuracy/5)*100,2)))\n",
        "print(string)"
      ],
      "execution_count": null,
      "outputs": [
        {
          "output_type": "stream",
          "text": [
            "91.09 & 89.71 & 92.15 & 90.77 & 91.54 & 91.05\n"
          ],
          "name": "stdout"
        }
      ]
    },
    {
      "cell_type": "markdown",
      "metadata": {
        "id": "jGPxAof1nwvO",
        "colab_type": "text"
      },
      "source": [
        "Splitting the data into train and test sets."
      ]
    },
    {
      "cell_type": "code",
      "metadata": {
        "id": "iVwzo6vWzxhS",
        "colab_type": "code",
        "colab": {}
      },
      "source": [
        "X_tr, X_tst, y_tr, y_tst = train_test_split(df4, y, test_size=0.3)\n",
        "# X_tr, X_tst, y_tr, y_tst = train_test_split(df4, y_one_hot, test_size=0.2)"
      ],
      "execution_count": null,
      "outputs": []
    },
    {
      "cell_type": "markdown",
      "metadata": {
        "id": "ye98QBU5n0oZ",
        "colab_type": "text"
      },
      "source": [
        "Training Shallow Models."
      ]
    },
    {
      "cell_type": "code",
      "metadata": {
        "id": "jaPNSPg3v0v5",
        "colab_type": "code",
        "colab": {
          "base_uri": "https://localhost:8080/",
          "height": 85
        },
        "outputId": "94ab1270-825b-4f42-c6e3-4577f1e53f3b"
      },
      "source": [
        "#KNN Model\n",
        "clf=KNeighborsClassifier()\n",
        "clf.fit(X_tr, y_tr)\n",
        "predicted= clf.predict(X_tst)\n",
        "print(metrics.accuracy_score(y_tst, predicted))\n",
        "print(KNeighborsClassifier())"
      ],
      "execution_count": null,
      "outputs": [
        {
          "output_type": "stream",
          "text": [
            "0.8360655737704918\n",
            "KNeighborsClassifier(algorithm='auto', leaf_size=30, metric='minkowski',\n",
            "                     metric_params=None, n_jobs=None, n_neighbors=5, p=2,\n",
            "                     weights='uniform')\n"
          ],
          "name": "stdout"
        }
      ]
    },
    {
      "cell_type": "code",
      "metadata": {
        "id": "XPs5_mcHv6nf",
        "colab_type": "code",
        "colab": {
          "base_uri": "https://localhost:8080/",
          "height": 34
        },
        "outputId": "d99071a7-dbca-4a0f-8fff-0d64c1d7515c"
      },
      "source": [
        "#Naive Bayes Model\n",
        "clf=BernoulliNB()\n",
        "clf.fit(X_tr, y_tr)\n",
        "predicted= clf.predict(X_tst)\n",
        "print(metrics.accuracy_score(y_tst, predicted))"
      ],
      "execution_count": null,
      "outputs": [
        {
          "output_type": "stream",
          "text": [
            "0.805327868852459\n"
          ],
          "name": "stdout"
        }
      ]
    },
    {
      "cell_type": "code",
      "metadata": {
        "id": "ri6EH7huxIJv",
        "colab_type": "code",
        "colab": {
          "base_uri": "https://localhost:8080/",
          "height": 88
        },
        "outputId": "cf776cbc-f215-4cb5-b866-68ef4cc77a7b"
      },
      "source": [
        "\n",
        "#SVC Model\n",
        "clf=SVC()\n",
        "clf.fit(X_tr, y_tr)\n",
        "predicted= clf.predict(X_tst)\n",
        "print(metrics.accuracy_score(y_tst, predicted))"
      ],
      "execution_count": null,
      "outputs": [
        {
          "output_type": "stream",
          "text": [
            "0.8370901639344263\n"
          ],
          "name": "stdout"
        },
        {
          "output_type": "stream",
          "text": [
            "/usr/local/lib/python3.6/dist-packages/sklearn/svm/base.py:193: FutureWarning: The default value of gamma will change from 'auto' to 'scale' in version 0.22 to account better for unscaled features. Set gamma explicitly to 'auto' or 'scale' to avoid this warning.\n",
            "  \"avoid this warning.\", FutureWarning)\n"
          ],
          "name": "stderr"
        }
      ]
    },
    {
      "cell_type": "code",
      "metadata": {
        "id": "8JO_wkQ_xSMC",
        "colab_type": "code",
        "colab": {
          "base_uri": "https://localhost:8080/",
          "height": 34
        },
        "outputId": "9034637c-5e94-4559-c6cd-44bbeb51903b"
      },
      "source": [
        "#Random Forest Model\n",
        "clf=RandomForestClassifier(n_estimators=1000,min_samples_leaf=3)\n",
        "clf.fit(X_tr, y_tr)\n",
        "predicted= clf.predict(X_tst)\n",
        "print(metrics.accuracy_score(y_tst, predicted))\n",
        "# print(RandomForestClassifier())"
      ],
      "execution_count": null,
      "outputs": [
        {
          "output_type": "stream",
          "text": [
            "0.9313524590163934\n"
          ],
          "name": "stdout"
        }
      ]
    },
    {
      "cell_type": "markdown",
      "metadata": {
        "id": "Isrjl2JQn4Mz",
        "colab_type": "text"
      },
      "source": [
        "Parameter Tuning for Random Forest Classifier."
      ]
    },
    {
      "cell_type": "code",
      "metadata": {
        "id": "yI02Mccy2P4b",
        "colab_type": "code",
        "colab": {}
      },
      "source": [
        "# #Tuning Parameters\n",
        "# rfc = RandomForestClassifier()\n",
        "# parameters = {\n",
        "#     \"n_estimators\":[5,10,50,100],\n",
        "#     \"max_depth\":[2,4,8,16,32,64,None],\n",
        "#     \"min_samples_leaf\":[1,5,10,50]\n",
        "# }\n",
        "# cv = GridSearchCV(rfc,parameters,cv=5)\n",
        "# cv.fit(X_tr,y_tr.values.ravel())\n",
        "# print(f'Best parameters are: {cv.best_params_}')\n",
        "# # print(\"\\n\")\n",
        "# mean_score = cv.cv_results_['mean_test_score']\n",
        "# std_score = cv.cv_results_['std_test_score']\n",
        "# params = cv.cv_results_['params']\n",
        "# for mean,std,params in zip(mean_score,std_score,params):\n",
        "#   print(f'{round(mean,3)} + or -{round(std,3)} for the {params}')"
      ],
      "execution_count": null,
      "outputs": []
    },
    {
      "cell_type": "code",
      "metadata": {
        "id": "rnrHZpacTuPS",
        "colab_type": "code",
        "colab": {
          "base_uri": "https://localhost:8080/",
          "height": 34
        },
        "outputId": "f6fb1711-dccf-4708-a336-a6c0ef43b222"
      },
      "source": [
        "#Decision Tree Model \n",
        "clf=DecisionTreeClassifier(min_samples_leaf=3, max_depth=4)\n",
        "clf.fit(X_tr, y_tr)\n",
        "predicted= clf.predict(X_tst)\n",
        "print(metrics.accuracy_score(y_tst, predicted))"
      ],
      "execution_count": null,
      "outputs": [
        {
          "output_type": "stream",
          "text": [
            "0.9211065573770492\n"
          ],
          "name": "stdout"
        }
      ]
    },
    {
      "cell_type": "code",
      "metadata": {
        "id": "2zlS8ySxYEgk",
        "colab_type": "code",
        "colab": {
          "base_uri": "https://localhost:8080/",
          "height": 68
        },
        "outputId": "c96b28ab-ae37-4f67-cd3a-93d1f8046f3d"
      },
      "source": [
        "#Ada Boost Model\n",
        "clf=AdaBoostClassifier(n_estimators=100,learning_rate=1)\n",
        "model = clf.fit(X_tr, y_tr)\n",
        "predicted= model.predict(X_tst)\n",
        "print(metrics.accuracy_score(y_tst, predicted))\n",
        "print(AdaBoostClassifier())"
      ],
      "execution_count": null,
      "outputs": [
        {
          "output_type": "stream",
          "text": [
            "0.8801229508196722\n",
            "AdaBoostClassifier(algorithm='SAMME.R', base_estimator=None, learning_rate=1.0,\n",
            "                   n_estimators=50, random_state=None)\n"
          ],
          "name": "stdout"
        }
      ]
    },
    {
      "cell_type": "code",
      "metadata": {
        "id": "nMpIVLRsskNe",
        "colab_type": "code",
        "colab": {}
      },
      "source": [
        "#Gradient Boost Model\n",
        "clf=GradientBoostingClassifier()\n",
        "model = clf.fit(X_tr, y_tr,)\n",
        "predicted= model.predict(X_tst)\n",
        "print(metrics.accuracy_score(y_tst, predicted))\n",
        "print(GradientBoostingClassifier())"
      ],
      "execution_count": null,
      "outputs": []
    },
    {
      "cell_type": "code",
      "metadata": {
        "id": "Co0xSblnt4hi",
        "colab_type": "code",
        "colab": {}
      },
      "source": [
        "#SGD Model\n",
        "clf=SGDClassifier()\n",
        "model = clf.fit(X_tr, y_tr)\n",
        "predicted= model.predict(X_tst)\n",
        "print(metrics.accuracy_score(y_tst, predicted))\n",
        "print(SGDClassifier())"
      ],
      "execution_count": null,
      "outputs": []
    },
    {
      "cell_type": "code",
      "metadata": {
        "id": "k69kb-BCv4S4",
        "colab_type": "code",
        "colab": {}
      },
      "source": [
        "#Bagging Model\n",
        "clf=BaggingClassifier(n_estimators=100)\n",
        "model = clf.fit(X_tr, y_tr)\n",
        "predicted= model.predict(X_tst)\n",
        "print(metrics.accuracy_score(y_tst, predicted))\n",
        "print(BaggingClassifier())"
      ],
      "execution_count": null,
      "outputs": []
    },
    {
      "cell_type": "markdown",
      "metadata": {
        "id": "rxesehz8oLXX",
        "colab_type": "text"
      },
      "source": [
        "Parameter Tuning for XGB Model."
      ]
    },
    {
      "cell_type": "code",
      "metadata": {
        "colab_type": "code",
        "id": "MlzA9ijY8ocE",
        "colab": {
          "base_uri": "https://localhost:8080/",
          "height": 153
        },
        "outputId": "d9219d60-3f97-4276-f476-bb25b9ed0e78"
      },
      "source": [
        "\n",
        "# for learning_rate in [0.1] :\n",
        "for learning_rate in [0.01,0.03,0.05,0.1,0.3,0.5,1,3] :\n",
        "  clf=XGBClassifier(booster='gbtree',objective='multi:softmax',num_class =10,eval_metric = 'merror', \n",
        "                     learning_rate=learning_rate,n_estimators=120,\n",
        "                      max_depth=5, min_child_weigth = 3,gamma=0,subsample=0.7, colsample_bytree = 0.9,scale_pos_weight = 1,seed = 27)\n",
        "    \n",
        "  model = clf.fit(X_tr, y_tr)\n",
        "  predicted= model.predict(X_tst)\n",
        "  print('learning rate: '+ str(learning_rate) +\"    Accuracy: \" + str(metrics.accuracy_score(y_tst, predicted)))\n"
      ],
      "execution_count": null,
      "outputs": [
        {
          "output_type": "stream",
          "text": [
            "learning rate: 0.01    Accuracy: 0.9334016393442623\n",
            "learning rate: 0.03    Accuracy: 0.9364754098360656\n",
            "learning rate: 0.05    Accuracy: 0.9405737704918032\n",
            "learning rate: 0.1    Accuracy: 0.9334016393442623\n",
            "learning rate: 0.3    Accuracy: 0.9190573770491803\n",
            "learning rate: 0.5    Accuracy: 0.9272540983606558\n",
            "learning rate: 1    Accuracy: 0.9200819672131147\n",
            "learning rate: 3    Accuracy: 0.8739754098360656\n"
          ],
          "name": "stdout"
        }
      ]
    },
    {
      "cell_type": "code",
      "metadata": {
        "id": "p1Qskjocf2Iy",
        "colab_type": "code",
        "colab": {
          "base_uri": "https://localhost:8080/",
          "height": 34
        },
        "outputId": "c712f776-bf2d-433a-882a-ccc29b7085f8"
      },
      "source": [
        "#XGB Model\n",
        "clf=XGBClassifier(booster='gbtree',objective='multi:softmax',num_class =10,eval_metric = 'merror', \n",
        "                     learning_rate=0.5,n_estimators=120,\n",
        "                      max_depth=5, min_child_weigth = 3,gamma=0,subsample=0.7, colsample_bytree = 0.9,scale_pos_weight = 1,seed = 27)\n",
        "model = clf.fit(X_tr, y_tr)\n",
        "predicted= model.predict(X_tst)\n",
        "print(metrics.accuracy_score(y_tst, predicted))"
      ],
      "execution_count": null,
      "outputs": [
        {
          "output_type": "stream",
          "text": [
            "0.9272540983606558\n"
          ],
          "name": "stdout"
        }
      ]
    },
    {
      "cell_type": "markdown",
      "metadata": {
        "id": "fFH3HFguoRpJ",
        "colab_type": "text"
      },
      "source": [
        "Parameter Tuning for XGB Model using Grid Search Algorithm."
      ]
    },
    {
      "cell_type": "code",
      "metadata": {
        "id": "1sXSrAAhIQ5n",
        "colab_type": "code",
        "colab": {}
      },
      "source": [
        "param_test1 = {\n",
        " 'max_depth':range(1,10,1),\n",
        " 'min_child_weight':range(1,10,1)\n",
        "}\n",
        "params = {\n",
        "        'gamma':[i/10.0 for i in range(0,5)],\n",
        "        'subsample':[i/10.0 for i in range(6,10)],\n",
        "        'colsample_bytree':[i/10.0 for i in range(6,10)]\n",
        "        }\n",
        "\n",
        "gsearch1 = GridSearchCV(estimator = clf,param_grid = params,iid=False, cv=5)\n",
        "gsearch1.fit(X_tr,y_tr)\n",
        "gsearch1.best_params_, gsearch1.best_score_"
      ],
      "execution_count": null,
      "outputs": []
    },
    {
      "cell_type": "markdown",
      "metadata": {
        "id": "kGLcNtEqoZaR",
        "colab_type": "text"
      },
      "source": [
        "Printing the best parameters."
      ]
    },
    {
      "cell_type": "code",
      "metadata": {
        "id": "a5xVzwMmNJRH",
        "colab_type": "code",
        "colab": {}
      },
      "source": [
        "gsearch1.best_params_, gsearch1.best_score_"
      ],
      "execution_count": null,
      "outputs": []
    },
    {
      "cell_type": "markdown",
      "metadata": {
        "id": "9WLWzJ4qocNy",
        "colab_type": "text"
      },
      "source": [
        "Data Structures for Paramter Tuning of XGB Classifier."
      ]
    },
    {
      "cell_type": "code",
      "metadata": {
        "id": "8Fl85wQ7D8n4",
        "colab_type": "code",
        "colab": {}
      },
      "source": [
        "# # Tuning parameters\n",
        "# params = {\n",
        "#         'min_child_weight': [1, 5, 10],\n",
        "#         'gamma': [0.5, 1, 1.5, 2, 5],\n",
        "#         'subsample': [0.6, 0.8, 1.0],\n",
        "#         'colsample_bytree': [0.6, 0.8, 1.0],\n",
        "#         'max_depth': [3, 4, 5]\n",
        "#         }\n",
        "\n",
        "# param_test1 = {\n",
        "#  'max_depth':range(3,10,2),\n",
        "#  'min_child_weight':range(1,6,2)\n",
        "# }\n"
      ],
      "execution_count": null,
      "outputs": []
    },
    {
      "cell_type": "markdown",
      "metadata": {
        "id": "-TOQbZjFokE-",
        "colab_type": "text"
      },
      "source": [
        "Printing the results of the Models."
      ]
    },
    {
      "cell_type": "code",
      "metadata": {
        "id": "H7hUn1rArPzN",
        "colab_type": "code",
        "colab": {}
      },
      "source": [
        "report = classification_report(y_tst, predicted)\n",
        "print(report)\n",
        "matrix = confusion_matrix(y_tst, predicted)\n",
        "print(matrix)"
      ],
      "execution_count": null,
      "outputs": []
    },
    {
      "cell_type": "code",
      "metadata": {
        "id": "kRemc0Wc1uEy",
        "colab_type": "code",
        "colab": {}
      },
      "source": [
        "#To evaluate the model's predictions\n",
        "report = classification_report(y_tst, predicted)\n",
        "print(report)\n",
        "matrix = confusion_matrix(y_tst, predicted)\n",
        "print(matrix)"
      ],
      "execution_count": null,
      "outputs": []
    },
    {
      "cell_type": "code",
      "metadata": {
        "id": "DmlhB01a-sl5",
        "colab_type": "code",
        "colab": {}
      },
      "source": [
        "# Final Accuracy : 93% (Random Forest Classifier)\n",
        "# F1 Score : 93%"
      ],
      "execution_count": null,
      "outputs": []
    },
    {
      "cell_type": "markdown",
      "metadata": {
        "id": "zpUzQ3a_xz-C",
        "colab_type": "text"
      },
      "source": [
        "# Neural network"
      ]
    },
    {
      "cell_type": "markdown",
      "metadata": {
        "id": "UiM44F7bopfr",
        "colab_type": "text"
      },
      "source": [
        "Importing the required libraries."
      ]
    },
    {
      "cell_type": "code",
      "metadata": {
        "id": "qQ9eMYXeB0Zd",
        "colab_type": "code",
        "colab": {}
      },
      "source": [
        "from keras.models import Sequential\n",
        "from keras.layers import Dense,Embedding,LSTM\n",
        "\n",
        "from sklearn import preprocessing\n",
        "import sys"
      ],
      "execution_count": null,
      "outputs": []
    },
    {
      "cell_type": "code",
      "metadata": {
        "id": "LxPUuAXj4Uud",
        "colab_type": "code",
        "colab": {}
      },
      "source": [
        "#Changing pandas dataframe to numpy array\n",
        "X = df4.values\n",
        "y = y.values"
      ],
      "execution_count": null,
      "outputs": []
    },
    {
      "cell_type": "code",
      "metadata": {
        "id": "CqxRdcGoycby",
        "colab_type": "code",
        "colab": {}
      },
      "source": [
        "# # #Standarize OR Normalize the data here\n",
        "# # #standardized_X = preprocessing.scale(X)\n",
        "\n",
        "# names = df4.columns\n",
        "# # Create the Scaler object\n",
        "# scaler = preprocessing.StandardScaler()\n",
        "# # Fit your data on the scaler object\n",
        "# scaled_df = scaler.fit_transform(df4)\n",
        "# scaled_df = pd.DataFrame(scaled_df, columns=names)\n",
        "# X = scaled_df.iloc[:,1:7].values\n",
        "\n",
        "# # # np.set_printoptions(threshold=sys.maxsize)\n",
        "\n",
        "\n",
        "\n",
        "# # # integer encode\n",
        "# # label_encoder = preprocessing.LabelEncoder()\n",
        "# # integer_encoded = label_encoder.fit_transform(y)\n",
        "# # print(integer_encoded)\n",
        "# # # binary encode\n",
        "# # onehot_encoder = preprocessing.OneHotEncoder(sparse=False)\n",
        "# # integer_encoded = integer_encoded.reshape(len(integer_encoded), 1)\n",
        "# # onehot_encoded = onehot_encoder.fit_transform(integer_encoded)\n",
        "# # print(onehot_encoded)\n",
        "# # # invert first example\n",
        "# # inverted = label_encoder.inverse_transform([np.argmax(onehot_encoded[0, :])])\n",
        "# # print(inverted)\n",
        "\n",
        "\n",
        "\n",
        "# # #Label Encoder\n",
        "# # # le = preprocessing.LabelEncoder()\n",
        "# # # le.fit(y)\n",
        "# # # y=le.transform(y)"
      ],
      "execution_count": null,
      "outputs": []
    },
    {
      "cell_type": "markdown",
      "metadata": {
        "id": "JFa1fnhEo0KW",
        "colab_type": "text"
      },
      "source": [
        "One - hot encoding"
      ]
    },
    {
      "cell_type": "code",
      "metadata": {
        "id": "UydezsTHxkOd",
        "colab_type": "code",
        "colab": {}
      },
      "source": [
        "# #Standarize OR Normalize the data here\n",
        "# #standardized_X = preprocessing.scale(X)\n",
        "\n",
        "# Onehotcenode\n",
        "onehotencoder = preprocessing.OneHotEncoder(categories = 'auto' )\n",
        "y_one_hot = onehotencoder.fit_transform(y.reshape(-1,1)).toarray()"
      ],
      "execution_count": null,
      "outputs": []
    },
    {
      "cell_type": "markdown",
      "metadata": {
        "id": "iDZXAsOyo3Fi",
        "colab_type": "text"
      },
      "source": [
        "Splitting the data into test and train sets.\n",
        "Initializing the model."
      ]
    },
    {
      "cell_type": "code",
      "metadata": {
        "id": "ENk-yKCq461j",
        "colab_type": "code",
        "colab": {}
      },
      "source": [
        "X_train,X_test,y_train,y_test = train_test_split(X,y_one_hot,test_size = 0.41)\n",
        "\n",
        "# define the keras model\n",
        "model = Sequential()\n",
        "model.add(Dense(8, input_dim=X.shape[1], activation='relu'))\n",
        "model.add(Dense(12, activation='relu'))\n",
        "model.add(Dense(16, activation='relu'))\n",
        "model.add(Dense(20, activation='relu'))\n",
        "model.add(Dense(15, activation='relu'))\n",
        "# model.add(Dense(12, activation='relu'))\n",
        "model.add(Dense(10, activation='softmax'))\n"
      ],
      "execution_count": null,
      "outputs": []
    },
    {
      "cell_type": "markdown",
      "metadata": {
        "id": "ffE3LV7Yo-qL",
        "colab_type": "text"
      },
      "source": [
        "Compiling the keras model and training it."
      ]
    },
    {
      "cell_type": "code",
      "metadata": {
        "id": "GUAOf_4TPa5d",
        "colab_type": "code",
        "colab": {}
      },
      "source": [
        "#Compile\n",
        "model.compile(loss='categorical_crossentropy', optimizer='adam', metrics=['accuracy'])\n",
        "\n",
        "# Fit Keras Model.\n",
        "history = model.fit(X_train, y_train, epochs=6000, batch_size=64)\n",
        "\n",
        "# Make Predictions\n",
        "y_pred = model.predict(X_test)\n",
        "#Converting predictions to label\n",
        "pred = list()\n",
        "for i in range(len(y_pred)):\n",
        "    pred.append(np.argmax(y_pred[i]))\n",
        "#Converting one hot encoded test label to label\n",
        "test = list()\n",
        "for i in range(len(y_test)):\n",
        "    test.append(np.argmax(y_test[i]))\n",
        "\n",
        "from sklearn.metrics import accuracy_score\n",
        "a = accuracy_score(pred,test)\n",
        "print('Accuracy is:', a*100)"
      ],
      "execution_count": null,
      "outputs": []
    },
    {
      "cell_type": "markdown",
      "metadata": {
        "id": "GxEco4MhpD3b",
        "colab_type": "text"
      },
      "source": [
        "Printing the accuracy."
      ]
    },
    {
      "cell_type": "code",
      "metadata": {
        "id": "FwpfKirzlmbA",
        "colab_type": "code",
        "colab": {}
      },
      "source": [
        "print('Accuracy is:', a*100)"
      ],
      "execution_count": null,
      "outputs": []
    },
    {
      "cell_type": "markdown",
      "metadata": {
        "id": "JoYO9JsJpIti",
        "colab_type": "text"
      },
      "source": [
        "Plotting the results."
      ]
    },
    {
      "cell_type": "code",
      "metadata": {
        "id": "DIuHN2795LY-",
        "colab_type": "code",
        "colab": {}
      },
      "source": [
        "import matplotlib.pyplot as plt"
      ],
      "execution_count": null,
      "outputs": []
    },
    {
      "cell_type": "code",
      "metadata": {
        "id": "P-0T6UbS02US",
        "colab_type": "code",
        "colab": {
          "base_uri": "https://localhost:8080/",
          "height": 295
        },
        "outputId": "2d96ca4a-fe31-4e48-e5e4-89a910cc10cc"
      },
      "source": [
        "plt.plot(history.history['acc'])\n",
        "plt.title('Model accuracy')\n",
        "plt.ylabel('Accuracy')\n",
        "plt.xlabel('Epoch')\n",
        "plt.legend(['Train', 'Test'], loc='upper left')\n",
        "plt.show()\n"
      ],
      "execution_count": null,
      "outputs": [
        {
          "output_type": "display_data",
          "data": {
            "image/png": "[encoded data removed]",
            "text/plain": [
              "<Figure size 432x288 with 1 Axes>"
            ]
          },
          "metadata": {
            "tags": []
          }
        }
      ]
    },
    {
      "cell_type": "code",
      "metadata": {
        "id": "bRNRJVkx1FQS",
        "colab_type": "code",
        "colab": {
          "base_uri": "https://localhost:8080/",
          "height": 295
        },
        "outputId": "49a8e502-3727-4737-9163-b5eb8933c29f"
      },
      "source": [
        "\n",
        "plt.plot(history.history['loss'])\n",
        "# plt.plot(historyhistory['val_loss'])\n",
        "plt.title('Model loss')\n",
        "plt.ylabel('Loss')\n",
        "plt.xlabel('Epoch')\n",
        "plt.legend(['Train', 'Test'], loc='upper left')\n",
        "plt.show()\n"
      ],
      "execution_count": null,
      "outputs": [
        {
          "output_type": "display_data",
          "data": {
            "image/png": "[encoded data removed]",
            "text/plain": [
              "<Figure size 432x288 with 1 Axes>"
            ]
          },
          "metadata": {
            "tags": []
          }
        }
      ]
    },
    {
      "cell_type": "code",
      "metadata": {
        "colab_type": "code",
        "id": "8L-qAL1OpS9i",
        "colab": {}
      },
      "source": [
        "report = classification_report(y_tst, predicted)\n",
        "print(report)\n",
        "matrix = confusion_matrix(y_tst, predicted)\n",
        "print(matrix)"
      ],
      "execution_count": null,
      "outputs": []
    },
    {
      "cell_type": "markdown",
      "metadata": {
        "id": "BtGJUG-zpWnY",
        "colab_type": "text"
      },
      "source": [
        "Printing the results of the model."
      ]
    },
    {
      "cell_type": "code",
      "metadata": {
        "id": "3FRWki7BSiRF",
        "colab_type": "code",
        "colab": {}
      },
      "source": [
        "print(y_pred)"
      ],
      "execution_count": null,
      "outputs": []
    },
    {
      "cell_type": "code",
      "metadata": {
        "id": "-MTIm9hNZhyB",
        "colab_type": "code",
        "colab": {}
      },
      "source": [
        "print(pred)"
      ],
      "execution_count": null,
      "outputs": []
    },
    {
      "cell_type": "markdown",
      "metadata": {
        "id": "o2J5NP4L3FfF",
        "colab_type": "text"
      },
      "source": [
        "# Applying the model on given dataset"
      ]
    },
    {
      "cell_type": "markdown",
      "metadata": {
        "id": "JYtvS_X8-q8j",
        "colab_type": "text"
      },
      "source": [
        "Going to the path where the preprocessed vehicular data is present."
      ]
    },
    {
      "cell_type": "code",
      "metadata": {
        "id": "KDISjWjH3Lq7",
        "colab_type": "code",
        "colab": {}
      },
      "source": [
        "cd /content/drive/'My Drive'/TestPreProcessedData_Final/"
      ],
      "execution_count": null,
      "outputs": []
    },
    {
      "cell_type": "markdown",
      "metadata": {
        "id": "LaljJEfZ-0oV",
        "colab_type": "text"
      },
      "source": [
        "Reading the test file"
      ]
    },
    {
      "cell_type": "code",
      "metadata": {
        "id": "ivJCJ0r83iSh",
        "colab_type": "code",
        "colab": {}
      },
      "source": [
        "df=pd.read_csv('FinalData.csv')"
      ],
      "execution_count": null,
      "outputs": []
    },
    {
      "cell_type": "markdown",
      "metadata": {
        "id": "SL4d6NaC-9GG",
        "colab_type": "text"
      },
      "source": [
        "Dropping the undesired columns."
      ]
    },
    {
      "cell_type": "code",
      "metadata": {
        "id": "s0HpBHBe_C4s",
        "colab_type": "code",
        "colab": {}
      },
      "source": [
        "\n",
        "df.drop(['Unnamed: 0'], axis=1, inplace=True)"
      ],
      "execution_count": null,
      "outputs": []
    },
    {
      "cell_type": "markdown",
      "metadata": {
        "id": "H89BeFOQ_Gd5",
        "colab_type": "text"
      },
      "source": [
        "Creating a copy of the data for actually running the model."
      ]
    },
    {
      "cell_type": "code",
      "metadata": {
        "id": "fW6JzPnP_NV6",
        "colab_type": "code",
        "colab": {}
      },
      "source": [
        "\n",
        "df2=df.drop(['id'], axis=1)"
      ],
      "execution_count": null,
      "outputs": []
    },
    {
      "cell_type": "markdown",
      "metadata": {
        "id": "oYMWMGA1AH8U",
        "colab_type": "text"
      },
      "source": [
        "Scaling the data."
      ]
    },
    {
      "cell_type": "code",
      "metadata": {
        "id": "5BKpGNDzAJox",
        "colab_type": "code",
        "colab": {}
      },
      "source": [
        "names = df2.columns\n",
        "scaler = preprocessing.StandardScaler()\n",
        "scaled_df = scaler.fit_transform(df2)\n",
        "scaled_df = pd.DataFrame(scaled_df, columns=names)\n",
        "df2=scaled_df"
      ],
      "execution_count": null,
      "outputs": []
    },
    {
      "cell_type": "markdown",
      "metadata": {
        "id": "AfZowJKb_PVg",
        "colab_type": "text"
      },
      "source": [
        "Dropping the columns with values in the original dataframe for writing back to disk, and adding a column for class."
      ]
    },
    {
      "cell_type": "code",
      "metadata": {
        "id": "11nGolMQ_fjL",
        "colab_type": "code",
        "colab": {}
      },
      "source": [
        "\n",
        "df.drop(['speed1_avg', 'speed2_avg', 'speed1_var', 'speed2_var', 'acc_avg','acc_var'], axis=1, inplace=True)\n",
        "df.insert(loc=1, column='class', value='None')"
      ],
      "execution_count": null,
      "outputs": []
    },
    {
      "cell_type": "markdown",
      "metadata": {
        "id": "dK4qRDSb_0Pk",
        "colab_type": "text"
      },
      "source": [
        "Running the model and writing to disk."
      ]
    },
    {
      "cell_type": "code",
      "metadata": {
        "id": "5iAR2-ya6981",
        "colab_type": "code",
        "colab": {}
      },
      "source": [
        "y=model.predict(df2)\n",
        "df['class']=y\n",
        "df.to_csv('./TestPreProcessedData_Final/Result.csv')"
      ],
      "execution_count": null,
      "outputs": []
    }
  ]
}